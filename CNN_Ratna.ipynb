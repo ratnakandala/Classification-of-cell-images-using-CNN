{
  "nbformat": 4,
  "nbformat_minor": 0,
  "metadata": {
    "colab": {
      "provenance": [],
      "gpuType": "T4"
    },
    "kernelspec": {
      "name": "python3",
      "display_name": "Python 3"
    },
    "language_info": {
      "name": "python"
    },
    "widgets": {
      "application/vnd.jupyter.widget-state+json": {
        "f9342df3a4ad4a268f638cc5ffb4edcc": {
          "model_module": "@jupyter-widgets/controls",
          "model_name": "HBoxModel",
          "model_module_version": "1.5.0",
          "state": {
            "_dom_classes": [],
            "_model_module": "@jupyter-widgets/controls",
            "_model_module_version": "1.5.0",
            "_model_name": "HBoxModel",
            "_view_count": null,
            "_view_module": "@jupyter-widgets/controls",
            "_view_module_version": "1.5.0",
            "_view_name": "HBoxView",
            "box_style": "",
            "children": [
              "IPY_MODEL_4f06d5584e054baa9e74a42cf2276dd2",
              "IPY_MODEL_2f8a29874f1b47c99d2dc0da918a1dda",
              "IPY_MODEL_b0dcd73060ac4788a6e86993811f2cab"
            ],
            "layout": "IPY_MODEL_95c3c930d1474f00825c1be2dc8d6ca4"
          }
        },
        "4f06d5584e054baa9e74a42cf2276dd2": {
          "model_module": "@jupyter-widgets/controls",
          "model_name": "HTMLModel",
          "model_module_version": "1.5.0",
          "state": {
            "_dom_classes": [],
            "_model_module": "@jupyter-widgets/controls",
            "_model_module_version": "1.5.0",
            "_model_name": "HTMLModel",
            "_view_count": null,
            "_view_module": "@jupyter-widgets/controls",
            "_view_module_version": "1.5.0",
            "_view_name": "HTMLView",
            "description": "",
            "description_tooltip": null,
            "layout": "IPY_MODEL_a65c1309e8644c3dbf5c9e4dddae89de",
            "placeholder": "​",
            "style": "IPY_MODEL_4a5037a672f040369fdcf249d93d202f",
            "value": ""
          }
        },
        "2f8a29874f1b47c99d2dc0da918a1dda": {
          "model_module": "@jupyter-widgets/controls",
          "model_name": "FloatProgressModel",
          "model_module_version": "1.5.0",
          "state": {
            "_dom_classes": [],
            "_model_module": "@jupyter-widgets/controls",
            "_model_module_version": "1.5.0",
            "_model_name": "FloatProgressModel",
            "_view_count": null,
            "_view_module": "@jupyter-widgets/controls",
            "_view_module_version": "1.5.0",
            "_view_name": "ProgressView",
            "bar_style": "success",
            "description": "",
            "description_tooltip": null,
            "layout": "IPY_MODEL_e1ffe1eef1cc48ebb400757ef5bfea1e",
            "max": 1,
            "min": 0,
            "orientation": "horizontal",
            "style": "IPY_MODEL_28c9fed21ff645798122dbd60980013d",
            "value": 1
          }
        },
        "b0dcd73060ac4788a6e86993811f2cab": {
          "model_module": "@jupyter-widgets/controls",
          "model_name": "HTMLModel",
          "model_module_version": "1.5.0",
          "state": {
            "_dom_classes": [],
            "_model_module": "@jupyter-widgets/controls",
            "_model_module_version": "1.5.0",
            "_model_name": "HTMLModel",
            "_view_count": null,
            "_view_module": "@jupyter-widgets/controls",
            "_view_module_version": "1.5.0",
            "_view_name": "HTMLView",
            "description": "",
            "description_tooltip": null,
            "layout": "IPY_MODEL_34eb77956e1d40c9af5f58afa38d3504",
            "placeholder": "​",
            "style": "IPY_MODEL_293cce4e58f74b55842cda76aee2126d",
            "value": " 63445/? [01:27&lt;00:00, 923.27it/s]"
          }
        },
        "95c3c930d1474f00825c1be2dc8d6ca4": {
          "model_module": "@jupyter-widgets/base",
          "model_name": "LayoutModel",
          "model_module_version": "1.2.0",
          "state": {
            "_model_module": "@jupyter-widgets/base",
            "_model_module_version": "1.2.0",
            "_model_name": "LayoutModel",
            "_view_count": null,
            "_view_module": "@jupyter-widgets/base",
            "_view_module_version": "1.2.0",
            "_view_name": "LayoutView",
            "align_content": null,
            "align_items": null,
            "align_self": null,
            "border": null,
            "bottom": null,
            "display": null,
            "flex": null,
            "flex_flow": null,
            "grid_area": null,
            "grid_auto_columns": null,
            "grid_auto_flow": null,
            "grid_auto_rows": null,
            "grid_column": null,
            "grid_gap": null,
            "grid_row": null,
            "grid_template_areas": null,
            "grid_template_columns": null,
            "grid_template_rows": null,
            "height": null,
            "justify_content": null,
            "justify_items": null,
            "left": null,
            "margin": null,
            "max_height": null,
            "max_width": null,
            "min_height": null,
            "min_width": null,
            "object_fit": null,
            "object_position": null,
            "order": null,
            "overflow": null,
            "overflow_x": null,
            "overflow_y": null,
            "padding": null,
            "right": null,
            "top": null,
            "visibility": null,
            "width": null
          }
        },
        "a65c1309e8644c3dbf5c9e4dddae89de": {
          "model_module": "@jupyter-widgets/base",
          "model_name": "LayoutModel",
          "model_module_version": "1.2.0",
          "state": {
            "_model_module": "@jupyter-widgets/base",
            "_model_module_version": "1.2.0",
            "_model_name": "LayoutModel",
            "_view_count": null,
            "_view_module": "@jupyter-widgets/base",
            "_view_module_version": "1.2.0",
            "_view_name": "LayoutView",
            "align_content": null,
            "align_items": null,
            "align_self": null,
            "border": null,
            "bottom": null,
            "display": null,
            "flex": null,
            "flex_flow": null,
            "grid_area": null,
            "grid_auto_columns": null,
            "grid_auto_flow": null,
            "grid_auto_rows": null,
            "grid_column": null,
            "grid_gap": null,
            "grid_row": null,
            "grid_template_areas": null,
            "grid_template_columns": null,
            "grid_template_rows": null,
            "height": null,
            "justify_content": null,
            "justify_items": null,
            "left": null,
            "margin": null,
            "max_height": null,
            "max_width": null,
            "min_height": null,
            "min_width": null,
            "object_fit": null,
            "object_position": null,
            "order": null,
            "overflow": null,
            "overflow_x": null,
            "overflow_y": null,
            "padding": null,
            "right": null,
            "top": null,
            "visibility": null,
            "width": null
          }
        },
        "4a5037a672f040369fdcf249d93d202f": {
          "model_module": "@jupyter-widgets/controls",
          "model_name": "DescriptionStyleModel",
          "model_module_version": "1.5.0",
          "state": {
            "_model_module": "@jupyter-widgets/controls",
            "_model_module_version": "1.5.0",
            "_model_name": "DescriptionStyleModel",
            "_view_count": null,
            "_view_module": "@jupyter-widgets/base",
            "_view_module_version": "1.2.0",
            "_view_name": "StyleView",
            "description_width": ""
          }
        },
        "e1ffe1eef1cc48ebb400757ef5bfea1e": {
          "model_module": "@jupyter-widgets/base",
          "model_name": "LayoutModel",
          "model_module_version": "1.2.0",
          "state": {
            "_model_module": "@jupyter-widgets/base",
            "_model_module_version": "1.2.0",
            "_model_name": "LayoutModel",
            "_view_count": null,
            "_view_module": "@jupyter-widgets/base",
            "_view_module_version": "1.2.0",
            "_view_name": "LayoutView",
            "align_content": null,
            "align_items": null,
            "align_self": null,
            "border": null,
            "bottom": null,
            "display": null,
            "flex": null,
            "flex_flow": null,
            "grid_area": null,
            "grid_auto_columns": null,
            "grid_auto_flow": null,
            "grid_auto_rows": null,
            "grid_column": null,
            "grid_gap": null,
            "grid_row": null,
            "grid_template_areas": null,
            "grid_template_columns": null,
            "grid_template_rows": null,
            "height": null,
            "justify_content": null,
            "justify_items": null,
            "left": null,
            "margin": null,
            "max_height": null,
            "max_width": null,
            "min_height": null,
            "min_width": null,
            "object_fit": null,
            "object_position": null,
            "order": null,
            "overflow": null,
            "overflow_x": null,
            "overflow_y": null,
            "padding": null,
            "right": null,
            "top": null,
            "visibility": null,
            "width": "20px"
          }
        },
        "28c9fed21ff645798122dbd60980013d": {
          "model_module": "@jupyter-widgets/controls",
          "model_name": "ProgressStyleModel",
          "model_module_version": "1.5.0",
          "state": {
            "_model_module": "@jupyter-widgets/controls",
            "_model_module_version": "1.5.0",
            "_model_name": "ProgressStyleModel",
            "_view_count": null,
            "_view_module": "@jupyter-widgets/base",
            "_view_module_version": "1.2.0",
            "_view_name": "StyleView",
            "bar_color": null,
            "description_width": ""
          }
        },
        "34eb77956e1d40c9af5f58afa38d3504": {
          "model_module": "@jupyter-widgets/base",
          "model_name": "LayoutModel",
          "model_module_version": "1.2.0",
          "state": {
            "_model_module": "@jupyter-widgets/base",
            "_model_module_version": "1.2.0",
            "_model_name": "LayoutModel",
            "_view_count": null,
            "_view_module": "@jupyter-widgets/base",
            "_view_module_version": "1.2.0",
            "_view_name": "LayoutView",
            "align_content": null,
            "align_items": null,
            "align_self": null,
            "border": null,
            "bottom": null,
            "display": null,
            "flex": null,
            "flex_flow": null,
            "grid_area": null,
            "grid_auto_columns": null,
            "grid_auto_flow": null,
            "grid_auto_rows": null,
            "grid_column": null,
            "grid_gap": null,
            "grid_row": null,
            "grid_template_areas": null,
            "grid_template_columns": null,
            "grid_template_rows": null,
            "height": null,
            "justify_content": null,
            "justify_items": null,
            "left": null,
            "margin": null,
            "max_height": null,
            "max_width": null,
            "min_height": null,
            "min_width": null,
            "object_fit": null,
            "object_position": null,
            "order": null,
            "overflow": null,
            "overflow_x": null,
            "overflow_y": null,
            "padding": null,
            "right": null,
            "top": null,
            "visibility": null,
            "width": null
          }
        },
        "293cce4e58f74b55842cda76aee2126d": {
          "model_module": "@jupyter-widgets/controls",
          "model_name": "DescriptionStyleModel",
          "model_module_version": "1.5.0",
          "state": {
            "_model_module": "@jupyter-widgets/controls",
            "_model_module_version": "1.5.0",
            "_model_name": "DescriptionStyleModel",
            "_view_count": null,
            "_view_module": "@jupyter-widgets/base",
            "_view_module_version": "1.2.0",
            "_view_name": "StyleView",
            "description_width": ""
          }
        }
      }
    },
    "accelerator": "GPU"
  },
  "cells": [
    {
      "cell_type": "code",
      "execution_count": null,
      "metadata": {
        "id": "56XtEKFkgIaz",
        "colab": {
          "base_uri": "https://localhost:8080/"
        },
        "outputId": "1e14c70c-c7ac-4339-a936-37be999bbd63"
      },
      "outputs": [
        {
          "output_type": "stream",
          "name": "stdout",
          "text": [
            "Looking in indexes: https://pypi.org/simple, https://us-python.pkg.dev/colab-wheels/public/simple/\n",
            "Requirement already satisfied: tqdm in /usr/local/lib/python3.10/dist-packages (4.65.0)\n",
            "Looking in indexes: https://pypi.org/simple, https://us-python.pkg.dev/colab-wheels/public/simple/\n",
            "Requirement already satisfied: kaggle in /usr/local/lib/python3.10/dist-packages (1.5.13)\n",
            "Requirement already satisfied: six>=1.10 in /usr/local/lib/python3.10/dist-packages (from kaggle) (1.16.0)\n",
            "Requirement already satisfied: certifi in /usr/local/lib/python3.10/dist-packages (from kaggle) (2022.12.7)\n",
            "Requirement already satisfied: python-dateutil in /usr/local/lib/python3.10/dist-packages (from kaggle) (2.8.2)\n",
            "Requirement already satisfied: requests in /usr/local/lib/python3.10/dist-packages (from kaggle) (2.27.1)\n",
            "Requirement already satisfied: tqdm in /usr/local/lib/python3.10/dist-packages (from kaggle) (4.65.0)\n",
            "Requirement already satisfied: python-slugify in /usr/local/lib/python3.10/dist-packages (from kaggle) (8.0.1)\n",
            "Requirement already satisfied: urllib3 in /usr/local/lib/python3.10/dist-packages (from kaggle) (1.26.15)\n",
            "Requirement already satisfied: text-unidecode>=1.3 in /usr/local/lib/python3.10/dist-packages (from python-slugify->kaggle) (1.3)\n",
            "Requirement already satisfied: charset-normalizer~=2.0.0 in /usr/local/lib/python3.10/dist-packages (from requests->kaggle) (2.0.12)\n",
            "Requirement already satisfied: idna<4,>=2.5 in /usr/local/lib/python3.10/dist-packages (from requests->kaggle) (3.4)\n",
            "Drive already mounted at /content/drive; to attempt to forcibly remount, call drive.mount(\"/content/drive\", force_remount=True).\n",
            "mkdir: cannot create directory ‘/root/.kaggle’: File exists\n",
            "{\"username\":\"swimzebra\",\"key\":\"b5feb024964305a9f5de76a1cba38d4b\"}"
          ]
        }
      ],
      "source": [
        "!pip install tqdm\n",
        "!pip install kaggle\n",
        "from tqdm import tqdm_notebook as tqdm\n",
        "import numpy as np\n",
        "import pandas as pd\n",
        "import zipfile\n",
        "from google.colab import drive\n",
        "import os\n",
        "drive.mount('/content/drive')\n",
        "!mkdir ~/.kaggle\n",
        "!cp /content/drive/MyDrive/kaggle.json ~/.kaggle/kaggle.json\n",
        "!cat ~/.kaggle/kaggle.json\n",
        "from kaggle.api.kaggle_api_extended import KaggleApi\n"
      ]
    },
    {
      "cell_type": "code",
      "source": [
        "import os\n",
        "!kaggle datasets download -d swimzebra/tl-ml-cell-images -p /content/dataset/"
      ],
      "metadata": {
        "id": "JB9yGFJZgU89",
        "colab": {
          "base_uri": "https://localhost:8080/"
        },
        "outputId": "b4967879-f1ad-4a64-8dfd-06ec324a4d8c"
      },
      "execution_count": null,
      "outputs": [
        {
          "output_type": "stream",
          "name": "stdout",
          "text": [
            "tl-ml-cell-images.zip: Skipping, found more recently modified local copy (use --force to force download)\n"
          ]
        }
      ]
    },
    {
      "cell_type": "code",
      "source": [
        "zip_file_path = '/content/dataset/tl-ml-cell-images.zip'\n",
        "extract_dir = '/content/dataset/extracted_dataset'\n",
        "\n",
        "with zipfile.ZipFile(zip_file_path, 'r') as zip_ref:\n",
        "    zip_ref.extractall(extract_dir)"
      ],
      "metadata": {
        "id": "dIcCsbVHgqQt"
      },
      "execution_count": null,
      "outputs": []
    },
    {
      "cell_type": "code",
      "source": [
        "#reading the labels\n",
        "data = pd.read_csv('/content/dataset/extracted_dataset/label.csv')\n",
        "label_data = np.array(data['label']) - 1"
      ],
      "metadata": {
        "id": "YDbJv3l6g4aU"
      },
      "execution_count": null,
      "outputs": []
    },
    {
      "cell_type": "code",
      "source": [
        "##Resizing, normalizing images and creating a images_array\n",
        "import matplotlib.image as mpimg\n",
        "from skimage import io, transform\n",
        "from skimage import exposure\n",
        "N = len(label_data) #total number of images in the dataset\n",
        "new_size = (80, 80)  # Specify the new size (width, height)\n",
        "shape_image_data = (N, new_size[0], new_size[1], 1)\n",
        "resized_images = np.empty(shape_image_data)\n",
        "\n",
        "iterate_array = range(1,N+1)\n",
        "\n",
        "for i, image_ind in tqdm(enumerate(iterate_array)):\n",
        "    image_path = f'/content/dataset/extracted_dataset/cells/cells/{image_ind}.png'\n",
        "    raw_image_0 = io.imread(image_path)\n",
        "\n",
        "    raw_image = np.array(raw_image_0).astype(float)\n",
        "    resized_image = transform.resize(raw_image, new_size)\n",
        "\n",
        "    normalized_image =  exposure.rescale_intensity(resized_image, in_range='image', out_range=(0, 1))\n",
        "\n",
        "    resized_images[i,:,:,0] = normalized_image"
      ],
      "metadata": {
        "id": "AKY1UtJZhlBD",
        "colab": {
          "base_uri": "https://localhost:8080/",
          "height": 121,
          "referenced_widgets": [
            "f9342df3a4ad4a268f638cc5ffb4edcc",
            "4f06d5584e054baa9e74a42cf2276dd2",
            "2f8a29874f1b47c99d2dc0da918a1dda",
            "b0dcd73060ac4788a6e86993811f2cab",
            "95c3c930d1474f00825c1be2dc8d6ca4",
            "a65c1309e8644c3dbf5c9e4dddae89de",
            "4a5037a672f040369fdcf249d93d202f",
            "e1ffe1eef1cc48ebb400757ef5bfea1e",
            "28c9fed21ff645798122dbd60980013d",
            "34eb77956e1d40c9af5f58afa38d3504",
            "293cce4e58f74b55842cda76aee2126d"
          ]
        },
        "outputId": "e4aa393a-957c-41de-ffcd-0cc09db9ae9f"
      },
      "execution_count": null,
      "outputs": [
        {
          "output_type": "stream",
          "name": "stderr",
          "text": [
            "<ipython-input-9-391c4d7b741b>:13: TqdmDeprecationWarning: This function will be removed in tqdm==5.0.0\n",
            "Please use `tqdm.notebook.tqdm` instead of `tqdm.tqdm_notebook`\n",
            "  for i, image_ind in tqdm(enumerate(iterate_array)):\n"
          ]
        },
        {
          "output_type": "display_data",
          "data": {
            "text/plain": [
              "0it [00:00, ?it/s]"
            ],
            "application/vnd.jupyter.widget-view+json": {
              "version_major": 2,
              "version_minor": 0,
              "model_id": "f9342df3a4ad4a268f638cc5ffb4edcc"
            }
          },
          "metadata": {}
        }
      ]
    },
    {
      "cell_type": "code",
      "source": [
        "from PIL import Image\n",
        "from skimage import exposure\n",
        "import matplotlib.pyplot as plt\n",
        "import random\n",
        "\n",
        "# plot a random image from the dataset\n",
        "random_number = random.randint(0, len(label_data)-1)\n",
        "image = Image.open(f'/content/dataset/extracted_dataset/cells/cells/{random_number+1}.png')\n",
        "image_array = np.array(image)\n",
        "\n",
        "# Normalize the image\n",
        "normalized_image = resized_images[random_number,:,:,0]\n",
        "\n",
        "# Create a figure with two subplots\n",
        "fig, axes = plt.subplots(1, 2, figsize=(10, 5))\n",
        "\n",
        "# Plot the original image\n",
        "axes[0].imshow(image_array, cmap='gray')\n",
        "axes[0].set_title('Original Image')\n",
        "\n",
        "# Plot the normalized image\n",
        "axes[1].imshow(normalized_image, cmap='gray')\n",
        "axes[1].set_title('Normalized Image')\n",
        "\n",
        "# Remove the axis labels\n",
        "for ax in axes:\n",
        "    ax.axis('off')\n",
        "\n",
        "plt.tight_layout()\n",
        "plt.show()\n",
        "\n",
        "\n"
      ],
      "metadata": {
        "id": "xhbhEMAmhS2i",
        "colab": {
          "base_uri": "https://localhost:8080/",
          "height": 410
        },
        "outputId": "6618c6c7-ab08-4dce-b217-f6ec862afd36"
      },
      "execution_count": null,
      "outputs": [
        {
          "output_type": "display_data",
          "data": {
            "text/plain": [
              "<Figure size 1000x500 with 2 Axes>"
            ],
            "image/png": "[encoded data removed]"
          },
          "metadata": {}
        }
      ]
    },
    {
      "cell_type": "code",
      "source": [
        "import tensorflow as tf\n",
        "import os\n",
        "import keras\n",
        "from keras.models import Sequential\n",
        "from keras.layers import Dense, Conv2D, Flatten\n",
        "from keras.utils import to_categorical\n",
        "#2-layer CNN"
      ],
      "metadata": {
        "id": "fr4SwXBJi5t3"
      },
      "execution_count": null,
      "outputs": []
    },
    {
      "cell_type": "code",
      "source": [
        "def batch_split(selected_types, resized_images, label_data, percentage,  encoding):\n",
        "    from sklearn.preprocessing import OneHotEncoder\n",
        "\n",
        "   #select only images in selected_types for training/testing\n",
        "    training_indices = []\n",
        "    for image_type in selected_types:\n",
        "        indices = np.where(label_data == image_type)[0] #obtain the images of type image_type\n",
        "        selected_indices = np.random.choice(indices, int(percentage*len(indices)/100)) #select n_per_type randomly chosen images\n",
        "        training_indices = np.append(training_indices, selected_indices)\n",
        "    training_indices = np.array(training_indices).astype(int)\n",
        "    x_train = resized_images[training_indices,:,:,:] #one-hot encode target column\n",
        "\n",
        "\n",
        "    testing_indices = [i for i in range(len(label_data)) \\\n",
        "                    if i not in training_indices and label_data[i] in selected_types]\n",
        "    x_test = resized_images[testing_indices, :, :, :]\n",
        "\n",
        "    if encoding:\n",
        "        y_train = to_categorical(label_data[training_indices], num_classes = 6)\n",
        "        y_test = to_categorical(label_data[testing_indices], num_classes = 6)\n",
        "    else:\n",
        "        y_train = label_data[training_indices]\n",
        "        y_test = label_data[testing_indices]\n",
        "\n",
        "    return x_train, y_train, x_test, y_test"
      ],
      "metadata": {
        "id": "hhzqOf9Fodpa"
      },
      "execution_count": null,
      "outputs": []
    },
    {
      "cell_type": "code",
      "source": [
        "percentage = 70 #no. of images of each type\n",
        "selected_types = list(range(6))\n",
        "encoding = 'true'\n",
        "x_train, y_train, x_test, y_test = batch_split(selected_types, resized_images, label_data, percentage, encoding)\n",
        "\n",
        "#create model\n",
        "model = Sequential()    #add model layers\n",
        "model.add(Conv2D(32, kernel_size=3, activation='relu', input_shape=(80,80,1), batch_size=64))\n",
        "model.add(Conv2D(32, kernel_size=3, activation='relu'))\n",
        "model.add(Flatten())\n",
        "model.add(Dense(6, activation='softmax'))\n",
        "\n",
        "# Compile the model\n",
        "model.compile(optimizer='adam', loss='categorical_crossentropy', metrics=['accuracy'],run_eagerly=True)"
      ],
      "metadata": {
        "id": "c8ngE31YqfGj"
      },
      "execution_count": null,
      "outputs": []
    },
    {
      "cell_type": "code",
      "source": [
        "print(selected_types)\n",
        "x_train_tensor = tf.convert_to_tensor(x_train, dtype=tf.float32)\n",
        "y_train_tensor = tf.convert_to_tensor(y_train, dtype=tf.float32)\n",
        "\n",
        "x_test_tensor = tf.convert_to_tensor(x_test, dtype=tf.float32)\n",
        "y_test_tensor = tf.convert_to_tensor(y_test, dtype=tf.float32)\n",
        "history = model.fit(x_train_tensor, y_train_tensor, validation_data=(x_test_tensor, y_test_tensor), epochs=3)"
      ],
      "metadata": {
        "id": "Itvof6utjABo",
        "colab": {
          "base_uri": "https://localhost:8080/"
        },
        "outputId": "88a27a82-c1a2-4987-e28b-da29ebb7cd2e"
      },
      "execution_count": null,
      "outputs": [
        {
          "output_type": "stream",
          "name": "stdout",
          "text": [
            "[0, 1, 2, 3, 4, 5]\n",
            "Epoch 1/3\n"
          ]
        },
        {
          "output_type": "stream",
          "name": "stderr",
          "text": [
            "WARNING:tensorflow:5 out of the last 5 calls to <function _BaseOptimizer._update_step_xla at 0x7fc3e51f5fc0> triggered tf.function retracing. Tracing is expensive and the excessive number of tracings could be due to (1) creating @tf.function repeatedly in a loop, (2) passing tensors with different shapes, (3) passing Python objects instead of tensors. For (1), please define your @tf.function outside of the loop. For (2), @tf.function has reduce_retracing=True option that can avoid unnecessary retracing. For (3), please refer to https://www.tensorflow.org/guide/function#controlling_retracing and https://www.tensorflow.org/api_docs/python/tf/function for  more details.\n",
            "WARNING:tensorflow:6 out of the last 6 calls to <function _BaseOptimizer._update_step_xla at 0x7fc3e51f5fc0> triggered tf.function retracing. Tracing is expensive and the excessive number of tracings could be due to (1) creating @tf.function repeatedly in a loop, (2) passing tensors with different shapes, (3) passing Python objects instead of tensors. For (1), please define your @tf.function outside of the loop. For (2), @tf.function has reduce_retracing=True option that can avoid unnecessary retracing. For (3), please refer to https://www.tensorflow.org/guide/function#controlling_retracing and https://www.tensorflow.org/api_docs/python/tf/function for  more details.\n"
          ]
        },
        {
          "output_type": "stream",
          "name": "stdout",
          "text": [
            "1388/1388 [==============================] - 64s 38ms/step - loss: 0.6289 - accuracy: 0.7583 - val_loss: 0.5996 - val_accuracy: 0.7786\n",
            "Epoch 2/3\n",
            "1388/1388 [==============================] - 56s 40ms/step - loss: 0.3903 - accuracy: 0.8559 - val_loss: 0.5413 - val_accuracy: 0.8105\n",
            "Epoch 3/3\n",
            "1388/1388 [==============================] - 48s 35ms/step - loss: 0.2508 - accuracy: 0.9098 - val_loss: 0.5569 - val_accuracy: 0.8137\n"
          ]
        }
      ]
    },
    {
      "cell_type": "code",
      "source": [
        "# Access the training history\n",
        "training_loss = history.history['loss']\n",
        "validation_loss = history.history['val_loss']\n",
        "\n",
        "# Plot the training and validation loss\n",
        "epochs = range(1, len(training_loss) + 1)\n",
        "\n",
        "plt.plot(epochs, training_loss, 'b-', label='Training Loss')\n",
        "plt.plot(epochs, validation_loss, 'r-', label='Validation Loss')\n",
        "plt.title('Training and Validation Loss')\n",
        "plt.xlabel('Epochs')\n",
        "plt.ylabel('Loss')\n",
        "plt.legend(loc = 0)\n",
        "\n",
        "plt.show()"
      ],
      "metadata": {
        "id": "TswGqU320oUI",
        "colab": {
          "base_uri": "https://localhost:8080/",
          "height": 472
        },
        "outputId": "be6091d7-755f-4fb1-ff73-7239c642070d"
      },
      "execution_count": null,
      "outputs": [
        {
          "output_type": "display_data",
          "data": {
            "text/plain": [
              "<Figure size 640x480 with 1 Axes>"
            ],
            "image/png": "[encoded data removed]"
          },
          "metadata": {}
        }
      ]
    },
    {
      "cell_type": "code",
      "source": [
        "plt.plot(history.history['accuracy'])\n",
        "plt.plot(history.history['val_accuracy'])\n",
        "plt.title('Model Accuracy')\n",
        "plt.xlabel('Epoch')\n",
        "plt.ylabel('Accuracy')\n",
        "plt.legend(['Train', 'Validation'], loc = 0)\n",
        "plt.show()"
      ],
      "metadata": {
        "colab": {
          "base_uri": "https://localhost:8080/",
          "height": 472
        },
        "id": "FgtIuuOGK22d",
        "outputId": "f04029e8-780b-4b3e-dd18-4c7076247fb3"
      },
      "execution_count": null,
      "outputs": [
        {
          "output_type": "display_data",
          "data": {
            "text/plain": [
              "<Figure size 640x480 with 1 Axes>"
            ],
            "image/png": "[encoded data removed]"
          },
          "metadata": {}
        }
      ]
    },
    {
      "cell_type": "code",
      "source": [
        "#Calculate F1 score\n",
        "from sklearn.metrics import f1_score\n",
        "\n",
        "# True labels and predicted labels\n",
        "true_labels = y_test\n",
        "predicted_labels = model.predict(x_test)\n",
        "\n",
        "# Calculate the F1 score\n",
        "f1 = f1_score(true_labels, predicted_labels)\n",
        "\n",
        "print(f\"F1 score: {f1}\")\n",
        "\n"
      ],
      "metadata": {
        "id": "2rOOUG4dL9wF"
      },
      "execution_count": null,
      "outputs": []
    },
    {
      "cell_type": "code",
      "source": [],
      "metadata": {
        "id": "edcswqviPLfe"
      },
      "execution_count": null,
      "outputs": []
    }
  ]
}